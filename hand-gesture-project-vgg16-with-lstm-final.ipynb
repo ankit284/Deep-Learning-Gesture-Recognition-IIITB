{
 "cells": [
  {
   "cell_type": "markdown",
   "metadata": {
    "_uuid": "a4af33961585d8183214c21bf889edc2c576cc00"
   },
   "source": [
    "# Gesture Recognition\n",
    "In this group project, you are going to build a 3D Conv model that will be able to predict the 5 gestures correctly. Please import the following libraries to get started."
   ]
  },
  {
   "cell_type": "code",
   "execution_count": 1,
   "metadata": {
    "_uuid": "6d0063fa54f75969243c151a098b6d9269bdb99d"
   },
   "outputs": [
    {
     "name": "stderr",
     "output_type": "stream",
     "text": [
      "/usr/local/lib/python3.5/dist-packages/h5py/__init__.py:36: FutureWarning: Conversion of the second argument of issubdtype from `float` to `np.floating` is deprecated. In future, it will be treated as `np.float64 == np.dtype(float).type`.\n",
      "  from ._conv import register_converters as _register_converters\n",
      "Using TensorFlow backend.\n"
     ]
    }
   ],
   "source": [
    "import numpy as np\n",
    "import os\n",
    "from scipy.misc import imread, imresize\n",
    "import datetime\n",
    "from skimage import transform as sktf\n",
    "import random as rn\n",
    "import tensorflow as tf\n",
    "from keras.layers import Dropout, TimeDistributed, CuDNNLSTM, Dense\n",
    "from keras.layers import Flatten\n",
    "from keras.models import Sequential, Model\n",
    "from keras.applications.vgg16 import VGG16\n",
    "from keras.optimizers import Adam\n",
    "from keras.callbacks import ModelCheckpoint, ReduceLROnPlateau, EarlyStopping\n",
    "from keras import regularizers\n",
    "\n",
    "np.random.seed(30)\n",
    "rn.seed(30)\n",
    "tf.set_random_seed(30)"
   ]
  },
  {
   "cell_type": "markdown",
   "metadata": {
    "_uuid": "7bb21ab505e2410aaf3674430c5ac5cea6282aca"
   },
   "source": [
    "We set the random seed so that the results don't vary drastically."
   ]
  },
  {
   "cell_type": "markdown",
   "metadata": {
    "_uuid": "fd9b96d91539e549887d574fc4b1a9eb3beb8448"
   },
   "source": [
    "In this block, you read the folder names for training and validation. You also set the `batch_size` here. Note that you set the batch size in such a way that you are able to use the GPU in full capacity. You keep increasing the batch size until the machine throws an error."
   ]
  },
  {
   "cell_type": "code",
   "execution_count": 2,
   "metadata": {
    "_uuid": "3df0a8014e460a7420508a3515f20776899868e4"
   },
   "outputs": [],
   "source": [
    "os.environ.putenv(\"HD5_USE_FILE_LOCKING\",\"FALSE\")"
   ]
  },
  {
   "cell_type": "code",
   "execution_count": 3,
   "metadata": {
    "_uuid": "231784d7078e683d9106f3aef82520cbe78fe70d"
   },
   "outputs": [],
   "source": [
    "train_doc = np.random.permutation(open('/notebooks/storage/Final_data/Collated_training/train.csv').readlines())\n",
    "val_doc = np.random.permutation(open('/notebooks/storage/Final_data/Collated_training/val.csv').readlines())\n"
   ]
  },
  {
   "cell_type": "code",
   "execution_count": 4,
   "metadata": {
    "_uuid": "6687a53da62c5cb567f970b6938d0a945d78f23a"
   },
   "outputs": [],
   "source": [
    "batch_size = 32 #experiment with the batch size \n",
    "HEIGHT_DIMENSION=100 \n",
    "WIDTH_DIMENSION=100\n",
    "INPUT_SIZE_IN_BATCH=15\n",
    "INPUT_PER_FOLDER=30\n",
    "y=HEIGHT_DIMENSION\n",
    "z=WIDTH_DIMENSION"
   ]
  },
  {
   "cell_type": "markdown",
   "metadata": {
    "_uuid": "a54f6c26d55a020b9178bd7369742bd23bf4aabe"
   },
   "source": [
    "Note here that a video is represented above in the generator as (number of images, height, width, number of channels). Take this into consideration while creating the model architecture."
   ]
  },
  {
   "cell_type": "code",
   "execution_count": 5,
   "metadata": {
    "_uuid": "24347209d405ec9cf858f89fa44b4e7bf15cad13"
   },
   "outputs": [],
   "source": [
    "def cropAndResize(imag,HEIGHT_DIMENSION,WIDTH_DIMENSION):\n",
    "    #crop the images and resize them. Note that the images are of 2 different shape \n",
    "    #and the conv3D will throw error if the inputs in a batch have different shapes\n",
    "    # CROPPING (making aspect ratio same)\n",
    "    if abs(imag.shape[0]-imag.shape[1])%2==0 and imag.shape[0]!=imag.shape[1]:\n",
    "        dimension_diff=abs(imag.shape[0]-imag.shape[1])\n",
    "        cropping_ratio=dimension_diff//2\n",
    "        if imag.shape[0]>imag.shape[1]:\n",
    "            imag=imag[cropping_ratio:imag.shape[0]-cropping_ratio,:,:]\n",
    "        elif imag.shape[0]<imag.shape[1]:\n",
    "            imag=imag[:,cropping_ratio:imag.shape[1]-cropping_ratio,:]\n",
    "                    \n",
    "    # RESIZING\n",
    "    if imag.shape[0]>HEIGHT_DIMENSION or imag.shape[1]>WIDTH_DIMENSION:\n",
    "        imag=imresize(imag,size=(HEIGHT_DIMENSION,WIDTH_DIMENSION),\n",
    "                      interp='bilinear',mode='RGB')\n",
    "        \n",
    "    return imag"
   ]
  },
  {
   "cell_type": "code",
   "execution_count": 6,
   "metadata": {
    "_uuid": "b9a840e04cb30dd5cdb4f4e79a72813638b73c51"
   },
   "outputs": [],
   "source": [
    "def normalize(imag):    \n",
    "    return (imag[:,:,0]-imag[:,:,0].mean())/imag[:,:,0].std(), (imag[:,:,1]-imag[:,:,1].mean())/imag[:,:,1].std(), (imag[:,:,2]-imag[:,:,2].mean())/imag[:,:,2].std()\n"
   ]
  },
  {
   "cell_type": "code",
   "execution_count": 7,
   "metadata": {
    "_uuid": "2ae97d683640872f18ae77718d2c6e7f8bc0a92e"
   },
   "outputs": [],
   "source": [
    "#NEW DATA GENERATOR with RANDOMIZATION\n",
    "def generator(source_path, folder_list, batch_size):\n",
    "    print(\"Inside generator\")\n",
    "    print( 'Source path = ', source_path, '; batch size =', batch_size)\n",
    "    NUM_FOLDERS=len(folder_list)\n",
    "    num_batches = NUM_FOLDERS//batch_size\n",
    "    remaining_batch_size=NUM_FOLDERS%batch_size\n",
    "    while True:        \n",
    "        t = np.random.permutation(folder_list)                \n",
    "        for batch in range(num_batches): # we iteratINPUT_SIZE_IN_BATCHe,INPUT_SIZE_IN_BATCH over the number of batches\n",
    "            batch_data = np.zeros((batch_size,INPUT_SIZE_IN_BATCH,y,z,3))\n",
    "            batch_labels = np.zeros((batch_size,5)) # batch_labels is the one hot representation of the output\n",
    "            mandatory = [0,1,28,29]\n",
    "            random_list_1 = rn.sample(range(2,28),INPUT_SIZE_IN_BATCH - 4)\n",
    "            random_list_1.extend(mandatory)\n",
    "            random_list_1.sort()\n",
    "            for folder in range(batch_size): # iterate over the batch_size\n",
    "                imgs = os.listdir(source_path+'/'+ t[folder + (batch*batch_size)].split(';')[0]) # read all the images in the folder\n",
    "                for idx,item in enumerate(random_list_1): #  Iterate iver the frames/images of a folder to read them in\n",
    "                    imag = imread(source_path+'/'+ t[folder + (batch*batch_size)].strip().split(';')[0]+'/'+imgs[item]).astype(np.float32)\n",
    "                    imag = cropAndResize(imag,HEIGHT_DIMENSION,WIDTH_DIMENSION)\n",
    "                    #NORMALIZING   \n",
    "                    batch_data[folder,idx,:,:,0], batch_data[folder,idx,:,:,1], batch_data[folder,idx,:,:,2] = normalize(imag)                            \n",
    "                                \n",
    "                batch_labels[folder, int(t[folder + (batch*batch_size)].strip().split(';')[2])] = 1                \n",
    "                               \n",
    "            yield batch_data, batch_labels #you yield the batch_data and the batch_labels, remember what does yield do\n",
    "        \n",
    "        for batch in range(num_batches,num_batches+1): # we iterate over the number of batches\n",
    "            rem_batch_data = np.zeros((remaining_batch_size*2,INPUT_SIZE_IN_BATCH,y,z,3)) # x is the number of images you use for each video, (y,z) is the final size of the input images and 3 is the number of channels RGB\n",
    "            rem_batch_labels = np.zeros((remaining_batch_size*2,5)) # batch_labels is the one hot representation of the output\n",
    "            mandatory = [0,1,28,29]\n",
    "            random_list_1 = rn.sample(range(2,28),INPUT_SIZE_IN_BATCH - 4)\n",
    "            random_list_1.extend(mandatory)\n",
    "            random_list_1.sort()\n",
    "            for folder in range(remaining_batch_size): # iterate over the batch_size\n",
    "                imgs = os.listdir(source_path+'/'+ t[folder + (batch*batch_size)].split(';')[0]) # read all the images in the folder\n",
    "                for idx,item in enumerate(random_list_1): #  Iterate iver the frames/images of a folder to read them in\n",
    "                    imag = imread(source_path+'/'+ t[folder + (batch*batch_size)].strip().split(';')[0]+'/'+imgs[item]).astype(np.float32)\n",
    "                    imag = cropAndResize(imag,HEIGHT_DIMENSION,WIDTH_DIMENSION)\n",
    "                    #NORMALIZING   \n",
    "                    rem_batch_data[folder,idx,:,:,0], rem_batch_data[folder,idx,:,:,1], rem_batch_data[folder,idx,:,:,2] = normalize(imag)\n",
    "                                \n",
    "                rem_batch_labels[folder, int(t[folder + (batch*batch_size)].strip().split(';')[2])] = 1\n",
    "                \n",
    "        yield rem_batch_data, rem_batch_labels #you yield the batch_data and the batch_labels, remember what does yield do\n",
    "        "
   ]
  },
  {
   "cell_type": "code",
   "execution_count": 8,
   "metadata": {
    "_uuid": "85cb79fe0491fbdca49c6727a4d5017b22392551"
   },
   "outputs": [
    {
     "name": "stdout",
     "output_type": "stream",
     "text": [
      "# training sequences = 663\n",
      "# validation sequences = 100\n",
      "# epochs = 10\n"
     ]
    }
   ],
   "source": [
    "curr_dt_time = datetime.datetime.now()\n",
    "train_path = '/notebooks/storage/Final_data/Collated_training/train'\n",
    "val_path = '/notebooks/storage/Final_data/Collated_training/val'\n",
    "num_train_sequences = len(train_doc)\n",
    "print('# training sequences =', num_train_sequences)\n",
    "num_val_sequences = len(val_doc)\n",
    "print('# validation sequences =', num_val_sequences)\n",
    "num_epochs = 10 # choose the number of epochs\n",
    "print ('# epochs =', num_epochs)"
   ]
  },
  {
   "cell_type": "markdown",
   "metadata": {
    "_uuid": "5c1c82cb43a96f22e803c7893b544c607522f93b"
   },
   "source": [
    "## Model\n",
    "Here you make the model using different functionalities that Keras provides. Remember to use `Conv3D` and `MaxPooling3D` and not `Conv2D` and `Maxpooling2D` for a 3D convolution model. You would want to use `TimeDistributed` while building a Conv2D + RNN model. Also remember that the last layer is the softmax. Design the network in such a way that the model is able to give good accuracy on the least number of parameters so that it can fit in the memory of the webcam."
   ]
  },
  {
   "cell_type": "code",
   "execution_count": 9,
   "metadata": {
    "_uuid": "17564c41ae40282bac766b8b921c9e91f6e11f1b"
   },
   "outputs": [],
   "source": [
    "base_model = VGG16(include_top=False, weights='imagenet',input_shape=(WIDTH_DIMENSION, HEIGHT_DIMENSION,3))\n",
    "x = base_model.output\n",
    "x = Flatten()(x)\n",
    "\n",
    "for layer in base_model.layers:\n",
    "    layer.trainable = False\n",
    "\n",
    "model = Model(inputs=base_model.input, outputs=x)\n",
    "\n",
    "fin_model = Sequential()\n",
    "fin_model.add(TimeDistributed(model, input_shape=(INPUT_SIZE_IN_BATCH,WIDTH_DIMENSION,HEIGHT_DIMENSION,3)))\n",
    "fin_model.add(CuDNNLSTM(64,return_sequences=False))\n",
    "fin_model.add(Dropout(0.5))\n",
    "fin_model.add(Dense(5, activation='softmax'))"
   ]
  },
  {
   "cell_type": "markdown",
   "metadata": {
    "_uuid": "9cb42acddc98ffd0a13cc1bd47b119b111ad18b7"
   },
   "source": [
    "Now that you have written the model, the next step is to `compile` the model. When you print the `summary` of the model, you'll see the total number of parameters you have to train."
   ]
  },
  {
   "cell_type": "code",
   "execution_count": 10,
   "metadata": {
    "_uuid": "3efcbabbe30b85e974d961eed356d38a50176e28",
    "scrolled": true
   },
   "outputs": [
    {
     "name": "stdout",
     "output_type": "stream",
     "text": [
      "_________________________________________________________________\n",
      "Layer (type)                 Output Shape              Param #   \n",
      "=================================================================\n",
      "time_distributed_1 (TimeDist (None, 15, 4608)          14714688  \n",
      "_________________________________________________________________\n",
      "cu_dnnlstm_1 (CuDNNLSTM)     (None, 64)                1196544   \n",
      "_________________________________________________________________\n",
      "dropout_1 (Dropout)          (None, 64)                0         \n",
      "_________________________________________________________________\n",
      "dense_1 (Dense)              (None, 5)                 325       \n",
      "=================================================================\n",
      "Total params: 15,911,557\n",
      "Trainable params: 1,196,869\n",
      "Non-trainable params: 14,714,688\n",
      "_________________________________________________________________\n",
      "None\n"
     ]
    }
   ],
   "source": [
    "optimiser = Adam(lr=0.001)\n",
    "fin_model.compile(optimizer=optimiser, loss='categorical_crossentropy', metrics=['categorical_accuracy'])\n",
    "print (fin_model.summary())"
   ]
  },
  {
   "cell_type": "markdown",
   "metadata": {
    "_uuid": "5dd2b7e91e3666420b3188ed976b7f24b4562cfe"
   },
   "source": [
    "Let us create the `train_generator` and the `val_generator` which will be used in `.fit_generator`."
   ]
  },
  {
   "cell_type": "code",
   "execution_count": 11,
   "metadata": {
    "_uuid": "ed3092c29dfc44cd87c93feacfc605f890767a61"
   },
   "outputs": [],
   "source": [
    "train_generator = generator(train_path, train_doc, batch_size)\n",
    "val_generator = generator(val_path, val_doc, batch_size)"
   ]
  },
  {
   "cell_type": "code",
   "execution_count": 12,
   "metadata": {
    "_uuid": "561c9f5bbb89c92b977796d759a7ba2cc7ac87ae"
   },
   "outputs": [],
   "source": [
    "model_name = 'model_init' + '_' + str(curr_dt_time).replace(' ','').replace(':','_') + '/'\n",
    "    \n",
    "if not os.path.exists(model_name):\n",
    "    os.mkdir(model_name)\n",
    "        \n",
    "filepath = model_name + 'hgr_sgd.h5'\n",
    "\n",
    "checkpoint = ModelCheckpoint(filepath, monitor='val_categorical_accuracy', verbose=1, save_best_only=True, save_weights_only=False, mode='auto', period=1)\n",
    "LR = ReduceLROnPlateau(monitor='val_loss', factor=0.2, patience=2, verbose=1, mode='auto', min_delta=0.0001, cooldown=0, min_lr=0.000001) # write the REducelronplateau code here\n",
    "ES = EarlyStopping(monitor='val_categorical_accuracy', min_delta=0, patience=10, verbose=1, mode='auto', baseline=None, restore_best_weights=True)\n",
    "callbacks_list = [checkpoint,LR,ES]"
   ]
  },
  {
   "cell_type": "markdown",
   "metadata": {
    "_uuid": "981bd17aad094b72e7a1d718ff1c5dc8151e4713"
   },
   "source": [
    "The `steps_per_epoch` and `validation_steps` are used by `fit_generator` to decide the number of next() calls it need to make."
   ]
  },
  {
   "cell_type": "code",
   "execution_count": 13,
   "metadata": {
    "_uuid": "a603c6217d34b7d6e4988b402d666f6e61399551"
   },
   "outputs": [],
   "source": [
    "if (num_train_sequences%batch_size) == 0:\n",
    "    steps_per_epoch = int(num_train_sequences/batch_size)\n",
    "else:\n",
    "    steps_per_epoch = (num_train_sequences//batch_size) + 1\n",
    "\n",
    "if (num_val_sequences%batch_size) == 0:\n",
    "    validation_steps = int(num_val_sequences/batch_size)\n",
    "else:\n",
    "    validation_steps = (num_val_sequences//batch_size) + 1"
   ]
  },
  {
   "cell_type": "markdown",
   "metadata": {
    "_uuid": "bc92476c5cd58a7ae5a691f25512e2ca3c708d29"
   },
   "source": [
    "Let us now fit the model. This will start training the model and with the help of the checkpoints, you'll be able to save the model at the end of each epoch."
   ]
  },
  {
   "cell_type": "code",
   "execution_count": null,
   "metadata": {
    "_uuid": "49e8c123a61108f878364fc2271f440cbd68c839",
    "scrolled": false
   },
   "outputs": [],
   "source": [
    "fin_model.fit_generator(train_generator, steps_per_epoch=steps_per_epoch, epochs=50, verbose=1, \n",
    "                    callbacks=callbacks_list, validation_data=val_generator, \n",
    "                    validation_steps=validation_steps, class_weight=None, workers=1, initial_epoch=0)"
   ]
  },
  {
   "cell_type": "markdown",
   "metadata": {},
   "source": [
    "# Google Drive Link - for h5 file.\n",
    "https://drive.google.com/open?id=1sNIznEW0pLNxl4e6-ib9fqB_n3ori1zm\n",
    "\n",
    "\n",
    "\n",
    "# Note:- This file is only getting loaded on Paper Space platform on GPU+ not anywhere else."
   ]
  },
  {
   "cell_type": "code",
   "execution_count": null,
   "metadata": {
    "_uuid": "a933b61caf038926f8dff22d735fb5420c4acbc8"
   },
   "outputs": [],
   "source": [
    "import matplotlib.pyplot as plt\n",
    "history = fin_model.history.__dict__['history']\n",
    "plt.plot(history['categorical_accuracy'])\n",
    "plt.plot(history['val_categorical_accuracy'])\n",
    "plt.title('model accuracy')\n",
    "plt.ylabel('accuracy')\n",
    "plt.xlabel('epoch')\n",
    "plt.legend(['train', 'test'], loc='upper left')\n",
    "plt.show()\n",
    "# summarize history for loss\n",
    "plt.plot(history['loss'])\n",
    "plt.plot(history['val_loss'])\n",
    "plt.title('model loss')\n",
    "plt.ylabel('loss')\n",
    "plt.xlabel('epoch')\n",
    "plt.legend(['train', 'test'], loc='upper left')\n",
    "plt.show()"
   ]
  },
  {
   "cell_type": "code",
   "execution_count": null,
   "metadata": {},
   "outputs": [],
   "source": []
  }
 ],
 "metadata": {
  "kernelspec": {
   "display_name": "Python 3",
   "language": "python",
   "name": "python3"
  },
  "language_info": {
   "codemirror_mode": {
    "name": "ipython",
    "version": 3
   },
   "file_extension": ".py",
   "mimetype": "text/x-python",
   "name": "python",
   "nbconvert_exporter": "python",
   "pygments_lexer": "ipython3",
   "version": "3.6.4"
  }
 },
 "nbformat": 4,
 "nbformat_minor": 2
}
